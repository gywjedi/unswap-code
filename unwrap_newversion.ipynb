{
 "cells": [
  {
   "cell_type": "code",
   "execution_count": 1,
   "id": "e42d7a8a-5a59-4c97-99a8-e135547ef7ad",
   "metadata": {
    "tags": []
   },
   "outputs": [],
   "source": [
    "import pandas as pd\n",
    "import numpy as np"
   ]
  },
  {
   "cell_type": "markdown",
   "id": "dd2debe6-4d2e-4cf2-8f98-db2fddbf19e5",
   "metadata": {
    "tags": []
   },
   "source": [
    "unswap atoms"
   ]
  },
  {
   "cell_type": "code",
   "execution_count": 2,
   "id": "d1f2a196-ce8c-4078-beb5-8a28cb067fcb",
   "metadata": {
    "tags": []
   },
   "outputs": [],
   "source": [
    "base = r\"./\"\n",
    "filename = base + \"data.out2\"\n",
    "fopen = open(filename,\"r\")\n",
    "flines = fopen.readlines()\n",
    "fopen.close()"
   ]
  },
  {
   "cell_type": "code",
   "execution_count": 3,
   "id": "b33e2fd0-7687-4f7d-9b8b-21eb98c33acb",
   "metadata": {
    "tags": []
   },
   "outputs": [],
   "source": [
    "bonds_map = list()\n",
    "for _ in flines[144040:215940]:\n",
    "    tmp = []\n",
    "    atomi = int(_.split()[2])\n",
    "    atomj = int(_.split()[3])\n",
    "    tmp=[min(atomi,atomj),max(atomi,atomj)]\n",
    "    bonds_map.append(tmp)\n",
    "    \n",
    "bonds_map.sort()"
   ]
  },
  {
   "cell_type": "code",
   "execution_count": 4,
   "id": "e1d97248-4bd6-4e1c-8464-3690c2f75492",
   "metadata": {
    "tags": []
   },
   "outputs": [],
   "source": [
    "bond_table = pd.DataFrame(data = bonds_map)"
   ]
  },
  {
   "cell_type": "code",
   "execution_count": 5,
   "id": "4e13ef9f-56ec-4563-bd93-c3bbe28d3f50",
   "metadata": {
    "tags": []
   },
   "outputs": [],
   "source": [
    "bond_table.columns = ['i','j']"
   ]
  },
  {
   "cell_type": "code",
   "execution_count": 6,
   "id": "f84dc3ff-aedd-4d2c-afa9-f69cbaa45152",
   "metadata": {
    "tags": []
   },
   "outputs": [],
   "source": [
    "def add_edge(graph, u, v):\n",
    "    if u not in graph:\n",
    "        graph[u] = []\n",
    "    if v not in graph:\n",
    "        graph[v] = []\n",
    "    graph[u].append(v)\n",
    "    graph[v].append(u)\n",
    "\n",
    "def dfs(node, graph, visited, component):\n",
    "    # Stack for the nodes to visit\n",
    "    stack = [node]\n",
    "    while stack:\n",
    "        current = stack.pop()\n",
    "        if current not in visited:\n",
    "            visited.add(current)\n",
    "            component.append(current)\n",
    "            for neighbor in graph[current]:\n",
    "                if neighbor not in visited:\n",
    "                    stack.append(neighbor)\n",
    "\n",
    "def find_connected_components(connections):\n",
    "    graph = {}\n",
    "    # Building the graph\n",
    "    for u, v in connections:\n",
    "        add_edge(graph, u, v)\n",
    "    \n",
    "    visited = set()\n",
    "    components = []\n",
    "\n",
    "    # Finding all components\n",
    "    for node in graph:\n",
    "        if node not in visited:\n",
    "            component = []\n",
    "            dfs(node, graph, visited, component)\n",
    "            components.append(component)\n",
    "    \n",
    "    return components\n",
    "\n",
    "# Example usage\n",
    "connections = bonds_map\n",
    "#components = find_connected_components(connections)\n",
    "#for i, component in enumerate(components):\n",
    "    #print(f\"Group {i + 1}: {component}\")\n",
    "\n",
    "reshuffled_chains = find_connected_components(connections)"
   ]
  },
  {
   "cell_type": "code",
   "execution_count": 7,
   "id": "6e05a67f-ce0a-47f1-82ce-138025a21455",
   "metadata": {
    "tags": []
   },
   "outputs": [],
   "source": [
    "swapedatom_df = pd.read_csv(base + \"data.out2\",skiprows=34,nrows=72000 ,sep=\"\\s+\",header=None)"
   ]
  },
  {
   "cell_type": "code",
   "execution_count": 8,
   "id": "68164890-6abd-4a19-9d00-ab4840f3c4b4",
   "metadata": {
    "tags": []
   },
   "outputs": [],
   "source": [
    "swapedatom_df.columns=['atomid','molid','atype','q','x','y','z','nx','ny','nz']"
   ]
  },
  {
   "cell_type": "code",
   "execution_count": 9,
   "id": "f2874866-4d8a-4116-8823-d15a5c53d1cb",
   "metadata": {
    "tags": []
   },
   "outputs": [
    {
     "data": {
      "text/html": [
       "<div>\n",
       "<style scoped>\n",
       "    .dataframe tbody tr th:only-of-type {\n",
       "        vertical-align: middle;\n",
       "    }\n",
       "\n",
       "    .dataframe tbody tr th {\n",
       "        vertical-align: top;\n",
       "    }\n",
       "\n",
       "    .dataframe thead th {\n",
       "        text-align: right;\n",
       "    }\n",
       "</style>\n",
       "<table border=\"1\" class=\"dataframe\">\n",
       "  <thead>\n",
       "    <tr style=\"text-align: right;\">\n",
       "      <th></th>\n",
       "      <th>atomid</th>\n",
       "      <th>molid</th>\n",
       "      <th>atype</th>\n",
       "      <th>q</th>\n",
       "      <th>x</th>\n",
       "      <th>y</th>\n",
       "      <th>z</th>\n",
       "      <th>nx</th>\n",
       "      <th>ny</th>\n",
       "      <th>nz</th>\n",
       "    </tr>\n",
       "  </thead>\n",
       "  <tbody>\n",
       "    <tr>\n",
       "      <th>0</th>\n",
       "      <td>12373</td>\n",
       "      <td>133</td>\n",
       "      <td>2</td>\n",
       "      <td>0</td>\n",
       "      <td>-20.847946</td>\n",
       "      <td>-21.194706</td>\n",
       "      <td>-20.583472</td>\n",
       "      <td>2</td>\n",
       "      <td>2</td>\n",
       "      <td>-2</td>\n",
       "    </tr>\n",
       "    <tr>\n",
       "      <th>1</th>\n",
       "      <td>44781</td>\n",
       "      <td>141</td>\n",
       "      <td>2</td>\n",
       "      <td>0</td>\n",
       "      <td>-21.192276</td>\n",
       "      <td>-21.701075</td>\n",
       "      <td>-21.513922</td>\n",
       "      <td>2</td>\n",
       "      <td>2</td>\n",
       "      <td>-1</td>\n",
       "    </tr>\n",
       "    <tr>\n",
       "      <th>2</th>\n",
       "      <td>12372</td>\n",
       "      <td>132</td>\n",
       "      <td>2</td>\n",
       "      <td>0</td>\n",
       "      <td>-21.744371</td>\n",
       "      <td>-20.982634</td>\n",
       "      <td>-20.822430</td>\n",
       "      <td>2</td>\n",
       "      <td>2</td>\n",
       "      <td>-2</td>\n",
       "    </tr>\n",
       "    <tr>\n",
       "      <th>3</th>\n",
       "      <td>44780</td>\n",
       "      <td>140</td>\n",
       "      <td>2</td>\n",
       "      <td>0</td>\n",
       "      <td>-20.283889</td>\n",
       "      <td>-21.466432</td>\n",
       "      <td>-21.396276</td>\n",
       "      <td>2</td>\n",
       "      <td>2</td>\n",
       "      <td>-1</td>\n",
       "    </tr>\n",
       "    <tr>\n",
       "      <th>4</th>\n",
       "      <td>44779</td>\n",
       "      <td>139</td>\n",
       "      <td>2</td>\n",
       "      <td>0</td>\n",
       "      <td>-19.663573</td>\n",
       "      <td>-21.604847</td>\n",
       "      <td>-20.619768</td>\n",
       "      <td>2</td>\n",
       "      <td>2</td>\n",
       "      <td>-1</td>\n",
       "    </tr>\n",
       "    <tr>\n",
       "      <th>...</th>\n",
       "      <td>...</td>\n",
       "      <td>...</td>\n",
       "      <td>...</td>\n",
       "      <td>...</td>\n",
       "      <td>...</td>\n",
       "      <td>...</td>\n",
       "      <td>...</td>\n",
       "      <td>...</td>\n",
       "      <td>...</td>\n",
       "      <td>...</td>\n",
       "    </tr>\n",
       "    <tr>\n",
       "      <th>71995</th>\n",
       "      <td>13949</td>\n",
       "      <td>269</td>\n",
       "      <td>2</td>\n",
       "      <td>0</td>\n",
       "      <td>18.256466</td>\n",
       "      <td>21.653581</td>\n",
       "      <td>20.763566</td>\n",
       "      <td>1</td>\n",
       "      <td>1</td>\n",
       "      <td>-2</td>\n",
       "    </tr>\n",
       "    <tr>\n",
       "      <th>71996</th>\n",
       "      <td>45095</td>\n",
       "      <td>455</td>\n",
       "      <td>2</td>\n",
       "      <td>0</td>\n",
       "      <td>19.364816</td>\n",
       "      <td>20.915448</td>\n",
       "      <td>21.273755</td>\n",
       "      <td>1</td>\n",
       "      <td>1</td>\n",
       "      <td>-2</td>\n",
       "    </tr>\n",
       "    <tr>\n",
       "      <th>71997</th>\n",
       "      <td>60456</td>\n",
       "      <td>696</td>\n",
       "      <td>2</td>\n",
       "      <td>0</td>\n",
       "      <td>20.149249</td>\n",
       "      <td>21.347806</td>\n",
       "      <td>20.590023</td>\n",
       "      <td>1</td>\n",
       "      <td>1</td>\n",
       "      <td>-2</td>\n",
       "    </tr>\n",
       "    <tr>\n",
       "      <th>71998</th>\n",
       "      <td>60022</td>\n",
       "      <td>262</td>\n",
       "      <td>2</td>\n",
       "      <td>0</td>\n",
       "      <td>21.743300</td>\n",
       "      <td>21.248155</td>\n",
       "      <td>20.994151</td>\n",
       "      <td>1</td>\n",
       "      <td>1</td>\n",
       "      <td>-2</td>\n",
       "    </tr>\n",
       "    <tr>\n",
       "      <th>71999</th>\n",
       "      <td>60457</td>\n",
       "      <td>697</td>\n",
       "      <td>2</td>\n",
       "      <td>0</td>\n",
       "      <td>20.731743</td>\n",
       "      <td>21.344026</td>\n",
       "      <td>21.420594</td>\n",
       "      <td>1</td>\n",
       "      <td>1</td>\n",
       "      <td>-2</td>\n",
       "    </tr>\n",
       "  </tbody>\n",
       "</table>\n",
       "<p>72000 rows × 10 columns</p>\n",
       "</div>"
      ],
      "text/plain": [
       "       atomid  molid  atype  q          x          y          z  nx  ny  nz\n",
       "0       12373    133      2  0 -20.847946 -21.194706 -20.583472   2   2  -2\n",
       "1       44781    141      2  0 -21.192276 -21.701075 -21.513922   2   2  -1\n",
       "2       12372    132      2  0 -21.744371 -20.982634 -20.822430   2   2  -2\n",
       "3       44780    140      2  0 -20.283889 -21.466432 -21.396276   2   2  -1\n",
       "4       44779    139      2  0 -19.663573 -21.604847 -20.619768   2   2  -1\n",
       "...       ...    ...    ... ..        ...        ...        ...  ..  ..  ..\n",
       "71995   13949    269      2  0  18.256466  21.653581  20.763566   1   1  -2\n",
       "71996   45095    455      2  0  19.364816  20.915448  21.273755   1   1  -2\n",
       "71997   60456    696      2  0  20.149249  21.347806  20.590023   1   1  -2\n",
       "71998   60022    262      2  0  21.743300  21.248155  20.994151   1   1  -2\n",
       "71999   60457    697      2  0  20.731743  21.344026  21.420594   1   1  -2\n",
       "\n",
       "[72000 rows x 10 columns]"
      ]
     },
     "execution_count": 9,
     "metadata": {},
     "output_type": "execute_result"
    }
   ],
   "source": [
    "swapedatom_df"
   ]
  },
  {
   "cell_type": "code",
   "execution_count": 10,
   "id": "f43bdf7a-cba0-4740-8201-d1e971f8d1aa",
   "metadata": {
    "tags": []
   },
   "outputs": [],
   "source": [
    "for ichain, chain in enumerate(reshuffled_chains):\n",
    "#    atoms.query('atomid==@chain')['type']=ichain+1\n",
    "    tmp = swapedatom_df.query('atomid==@chain')\n",
    "    index_arr = tmp.index\n",
    "    swapedatom_df.loc[index_arr,'atype']=ichain+1\n",
    "sort_atoms = swapedatom_df.sort_values(by=['atype','molid'])"
   ]
  },
  {
   "cell_type": "code",
   "execution_count": 11,
   "id": "a17895db-ce9f-4524-aec5-8178c555bf1d",
   "metadata": {
    "tags": []
   },
   "outputs": [
    {
     "data": {
      "text/html": [
       "<div>\n",
       "<style scoped>\n",
       "    .dataframe tbody tr th:only-of-type {\n",
       "        vertical-align: middle;\n",
       "    }\n",
       "\n",
       "    .dataframe tbody tr th {\n",
       "        vertical-align: top;\n",
       "    }\n",
       "\n",
       "    .dataframe thead th {\n",
       "        text-align: right;\n",
       "    }\n",
       "</style>\n",
       "<table border=\"1\" class=\"dataframe\">\n",
       "  <thead>\n",
       "    <tr style=\"text-align: right;\">\n",
       "      <th></th>\n",
       "      <th>atomid</th>\n",
       "      <th>molid</th>\n",
       "      <th>atype</th>\n",
       "      <th>q</th>\n",
       "      <th>x</th>\n",
       "      <th>y</th>\n",
       "      <th>z</th>\n",
       "      <th>nx</th>\n",
       "      <th>ny</th>\n",
       "      <th>nz</th>\n",
       "    </tr>\n",
       "  </thead>\n",
       "  <tbody>\n",
       "    <tr>\n",
       "      <th>56636</th>\n",
       "      <td>1</td>\n",
       "      <td>1</td>\n",
       "      <td>1</td>\n",
       "      <td>0</td>\n",
       "      <td>15.499626</td>\n",
       "      <td>3.780977</td>\n",
       "      <td>-17.971203</td>\n",
       "      <td>1</td>\n",
       "      <td>2</td>\n",
       "      <td>-2</td>\n",
       "    </tr>\n",
       "    <tr>\n",
       "      <th>56634</th>\n",
       "      <td>2</td>\n",
       "      <td>2</td>\n",
       "      <td>1</td>\n",
       "      <td>0</td>\n",
       "      <td>14.623205</td>\n",
       "      <td>4.263755</td>\n",
       "      <td>-17.958017</td>\n",
       "      <td>1</td>\n",
       "      <td>2</td>\n",
       "      <td>-2</td>\n",
       "    </tr>\n",
       "    <tr>\n",
       "      <th>56655</th>\n",
       "      <td>2883</td>\n",
       "      <td>3</td>\n",
       "      <td>1</td>\n",
       "      <td>0</td>\n",
       "      <td>13.754028</td>\n",
       "      <td>4.693986</td>\n",
       "      <td>-18.139164</td>\n",
       "      <td>1</td>\n",
       "      <td>1</td>\n",
       "      <td>-2</td>\n",
       "    </tr>\n",
       "    <tr>\n",
       "      <th>56657</th>\n",
       "      <td>2884</td>\n",
       "      <td>4</td>\n",
       "      <td>1</td>\n",
       "      <td>0</td>\n",
       "      <td>13.554058</td>\n",
       "      <td>5.543854</td>\n",
       "      <td>-18.562827</td>\n",
       "      <td>1</td>\n",
       "      <td>1</td>\n",
       "      <td>-2</td>\n",
       "    </tr>\n",
       "    <tr>\n",
       "      <th>56679</th>\n",
       "      <td>2885</td>\n",
       "      <td>5</td>\n",
       "      <td>1</td>\n",
       "      <td>0</td>\n",
       "      <td>12.843875</td>\n",
       "      <td>6.112469</td>\n",
       "      <td>-18.921424</td>\n",
       "      <td>1</td>\n",
       "      <td>1</td>\n",
       "      <td>-2</td>\n",
       "    </tr>\n",
       "    <tr>\n",
       "      <th>...</th>\n",
       "      <td>...</td>\n",
       "      <td>...</td>\n",
       "      <td>...</td>\n",
       "      <td>...</td>\n",
       "      <td>...</td>\n",
       "      <td>...</td>\n",
       "      <td>...</td>\n",
       "      <td>...</td>\n",
       "      <td>...</td>\n",
       "      <td>...</td>\n",
       "    </tr>\n",
       "    <tr>\n",
       "      <th>7466</th>\n",
       "      <td>42476</td>\n",
       "      <td>716</td>\n",
       "      <td>100</td>\n",
       "      <td>0</td>\n",
       "      <td>-18.603106</td>\n",
       "      <td>-7.380184</td>\n",
       "      <td>18.717381</td>\n",
       "      <td>2</td>\n",
       "      <td>1</td>\n",
       "      <td>-2</td>\n",
       "    </tr>\n",
       "    <tr>\n",
       "      <th>7463</th>\n",
       "      <td>42477</td>\n",
       "      <td>717</td>\n",
       "      <td>100</td>\n",
       "      <td>0</td>\n",
       "      <td>-19.337360</td>\n",
       "      <td>-7.686314</td>\n",
       "      <td>18.227990</td>\n",
       "      <td>2</td>\n",
       "      <td>1</td>\n",
       "      <td>-2</td>\n",
       "    </tr>\n",
       "    <tr>\n",
       "      <th>7214</th>\n",
       "      <td>42478</td>\n",
       "      <td>718</td>\n",
       "      <td>100</td>\n",
       "      <td>0</td>\n",
       "      <td>-19.907872</td>\n",
       "      <td>-8.264914</td>\n",
       "      <td>17.757128</td>\n",
       "      <td>2</td>\n",
       "      <td>1</td>\n",
       "      <td>-2</td>\n",
       "    </tr>\n",
       "    <tr>\n",
       "      <th>7212</th>\n",
       "      <td>42479</td>\n",
       "      <td>719</td>\n",
       "      <td>100</td>\n",
       "      <td>0</td>\n",
       "      <td>-20.871989</td>\n",
       "      <td>-8.639038</td>\n",
       "      <td>17.427057</td>\n",
       "      <td>2</td>\n",
       "      <td>1</td>\n",
       "      <td>-2</td>\n",
       "    </tr>\n",
       "    <tr>\n",
       "      <th>7189</th>\n",
       "      <td>42480</td>\n",
       "      <td>720</td>\n",
       "      <td>100</td>\n",
       "      <td>0</td>\n",
       "      <td>-20.524612</td>\n",
       "      <td>-8.847502</td>\n",
       "      <td>16.539924</td>\n",
       "      <td>2</td>\n",
       "      <td>1</td>\n",
       "      <td>-2</td>\n",
       "    </tr>\n",
       "  </tbody>\n",
       "</table>\n",
       "<p>72000 rows × 10 columns</p>\n",
       "</div>"
      ],
      "text/plain": [
       "       atomid  molid  atype  q          x         y          z  nx  ny  nz\n",
       "56636       1      1      1  0  15.499626  3.780977 -17.971203   1   2  -2\n",
       "56634       2      2      1  0  14.623205  4.263755 -17.958017   1   2  -2\n",
       "56655    2883      3      1  0  13.754028  4.693986 -18.139164   1   1  -2\n",
       "56657    2884      4      1  0  13.554058  5.543854 -18.562827   1   1  -2\n",
       "56679    2885      5      1  0  12.843875  6.112469 -18.921424   1   1  -2\n",
       "...       ...    ...    ... ..        ...       ...        ...  ..  ..  ..\n",
       "7466    42476    716    100  0 -18.603106 -7.380184  18.717381   2   1  -2\n",
       "7463    42477    717    100  0 -19.337360 -7.686314  18.227990   2   1  -2\n",
       "7214    42478    718    100  0 -19.907872 -8.264914  17.757128   2   1  -2\n",
       "7212    42479    719    100  0 -20.871989 -8.639038  17.427057   2   1  -2\n",
       "7189    42480    720    100  0 -20.524612 -8.847502  16.539924   2   1  -2\n",
       "\n",
       "[72000 rows x 10 columns]"
      ]
     },
     "execution_count": 11,
     "metadata": {},
     "output_type": "execute_result"
    }
   ],
   "source": [
    "sort_atoms"
   ]
  },
  {
   "cell_type": "markdown",
   "id": "d385b0c9-0825-4aa0-8220-1b50e0bbe4c7",
   "metadata": {
    "tags": []
   },
   "source": [
    "backbone_clean"
   ]
  },
  {
   "cell_type": "code",
   "execution_count": 26,
   "id": "9fc788d0-c78d-4b60-9032-6318d686ae4e",
   "metadata": {
    "tags": []
   },
   "outputs": [],
   "source": [
    "len_bb = 80\n",
    "num_poly = 720\n",
    "for index_atype in range(1,101):\n",
    "    bb_list = [_ for _ in range(1,81)]\n",
    "    pointer = 0;\n",
    "    while pointer < len_bb-1:\n",
    "        jdx = bb_list[pointer]\n",
    "        jdx_1 = bb_list[pointer + 1]\n",
    "        index_j = sort_atoms.query(f'atype == {index_atype} & molid == {jdx}').index\n",
    "        index_k = sort_atoms.query(f'atype == {index_atype} & molid == {jdx_1}').index\n",
    "        thisx = sort_atoms.loc[index_j,'x'].values[0]\n",
    "        thatx = sort_atoms.loc[index_k,'x'].values[0]\n",
    "        \n",
    "        if thatx - thisx > 2:\n",
    "            sort_atoms.loc[index_k,'x'] -= 21.934940186126006*2\n",
    "        elif thatx - thisx < -2:\n",
    "            sort_atoms.loc[index_k,'x'] += 21.934940186126006*2\n",
    "        else:\n",
    "            pass\n",
    "        \n",
    "        thisy = sort_atoms.loc[index_j,'y'].values[0]\n",
    "        thaty = sort_atoms.loc[index_k,'y'].values[0]\n",
    "        \n",
    "        if thaty - thisy > 2:\n",
    "            sort_atoms.loc[index_k,'y'] -= 21.934940186126006*2\n",
    "        elif thaty - thisy < -2:\n",
    "            sort_atoms.loc[index_k,'y'] += 21.934940186126006*2\n",
    "        else:\n",
    "            pass\n",
    "        \n",
    "        thisz = sort_atoms.loc[index_j,'z'].values[0]\n",
    "        thatz = sort_atoms.loc[index_k,'z'].values[0]\n",
    "        \n",
    "        if thatz - thisz > 2:\n",
    "            sort_atoms.loc[index_k,'z'] -= 21.934940186126006*2\n",
    "        elif thatz - thisz < -2:\n",
    "            sort_atoms.loc[index_k,'z'] += 21.934940186126006*2\n",
    "        else:\n",
    "            pass\n",
    "        \n",
    "        pointer += 1\n",
    "        \n",
    "    "
   ]
  },
  {
   "cell_type": "code",
   "execution_count": 28,
   "id": "cdd7d083-7da4-4a1f-8b56-9c68b4ff9fe2",
   "metadata": {
    "tags": []
   },
   "outputs": [],
   "source": [
    "###sidechain###\n",
    "num_sc = 20\n",
    "for index_atype in range(100):\n",
    "    for index_of_sc in range(num_sc):\n",
    "        jdx = 3 + index_of_sc*4 + index_atype*num_poly\n",
    "        temp_connect1 = bond_table.query(f'i=={jdx}')['j'].tolist()\n",
    "        temp_connect2 = bond_table.query(f'j=={jdx}')['i'].tolist()\n",
    "        temp_connect = list(set(temp_connect1 + temp_connect2))\n",
    "        atom1_list = [_ for _ in temp_connect if abs(_-jdx) > 2]\n",
    "        for jdx_1 in atom1_list:\n",
    "            jdx = 3 + index_of_sc*4 + index_atype*num_poly\n",
    "            pointer = 0;\n",
    "            tmp_mem = [jdx,jdx_1]\n",
    "            while pointer < 33:\n",
    "                index_j = sort_atoms.query(f'atomid=={jdx}').index\n",
    "                index_k = sort_atoms.query(f'atomid=={jdx_1}').index\n",
    "            \n",
    "                thisx = sort_atoms.loc[index_j,'x'].values[0]\n",
    "                thatx = sort_atoms.loc[index_k,'x'].values[0]\n",
    "            \n",
    "                if thatx - thisx > 3:\n",
    "                    sort_atoms.loc[index_k,'x'] -= 21.934940186126006*2\n",
    "                elif thatx - thisx < -3:\n",
    "                    sort_atoms.loc[index_k,'x'] += 21.934940186126006*2\n",
    "                else:\n",
    "                    pass\n",
    "\n",
    "                thisy = sort_atoms.loc[index_j,'y'].values[0]\n",
    "                thaty = sort_atoms.loc[index_k,'y'].values[0]\n",
    "                \n",
    "                if thaty - thisy > 3:\n",
    "                    sort_atoms.loc[index_k,'y'] -= 21.934940186126006*2\n",
    "                elif thaty - thisy < -3:\n",
    "                    sort_atoms.loc[index_k,'y'] += 21.934940186126006*2\n",
    "                else:\n",
    "                    pass\n",
    "                \n",
    "\n",
    "                thisz = sort_atoms.loc[index_j,'z'].values[0]\n",
    "                thatz = sort_atoms.loc[index_k,'z'].values[0]\n",
    "        \n",
    "                if thatz - thisz > 3:\n",
    "                    sort_atoms.loc[index_k,'z'] -= 21.934940186126006*2\n",
    "                elif thatz - thisz < -3:\n",
    "                    sort_atoms.loc[index_k,'z'] += 21.934940186126006*2\n",
    "                else:\n",
    "                    pass\n",
    "                \n",
    "                jdx = jdx_1\n",
    "                temp_connect1 = bond_table.query(f'i=={jdx}')['j'].tolist()\n",
    "                temp_connect2 = bond_table.query(f'j=={jdx}')['i'].tolist()\n",
    "                temp_connect = list(set(temp_connect1 + temp_connect2))\n",
    "                \n",
    "                for atomj_1 in temp_connect:\n",
    "                    if atomj_1 in tmp_mem:\n",
    "                        pass\n",
    "                    else:\n",
    "                        jdx_1 = atomj_1\n",
    "                pointer += 1\n",
    "                tmp_mem.append(jdx_1)"
   ]
  },
  {
   "cell_type": "code",
   "execution_count": null,
   "id": "e683bdaf-e9df-423d-bbd9-0cbb4cdc04cc",
   "metadata": {
    "tags": []
   },
   "outputs": [],
   "source": [
    "sort_atoms['molid'] = sort_atoms['atype']"
   ]
  },
  {
   "cell_type": "code",
   "execution_count": 32,
   "id": "1f6c083f-4b77-48ad-919d-23233d62929e",
   "metadata": {
    "tags": []
   },
   "outputs": [
    {
     "data": {
      "text/html": [
       "<div>\n",
       "<style scoped>\n",
       "    .dataframe tbody tr th:only-of-type {\n",
       "        vertical-align: middle;\n",
       "    }\n",
       "\n",
       "    .dataframe tbody tr th {\n",
       "        vertical-align: top;\n",
       "    }\n",
       "\n",
       "    .dataframe thead th {\n",
       "        text-align: right;\n",
       "    }\n",
       "</style>\n",
       "<table border=\"1\" class=\"dataframe\">\n",
       "  <thead>\n",
       "    <tr style=\"text-align: right;\">\n",
       "      <th></th>\n",
       "      <th>atomid</th>\n",
       "      <th>molid</th>\n",
       "      <th>atype</th>\n",
       "      <th>q</th>\n",
       "      <th>x</th>\n",
       "      <th>y</th>\n",
       "      <th>z</th>\n",
       "      <th>nx</th>\n",
       "      <th>ny</th>\n",
       "      <th>nz</th>\n",
       "    </tr>\n",
       "  </thead>\n",
       "  <tbody>\n",
       "    <tr>\n",
       "      <th>56636</th>\n",
       "      <td>1</td>\n",
       "      <td>1</td>\n",
       "      <td>1</td>\n",
       "      <td>0</td>\n",
       "      <td>15.499626</td>\n",
       "      <td>3.780977</td>\n",
       "      <td>-17.971203</td>\n",
       "      <td>1</td>\n",
       "      <td>2</td>\n",
       "      <td>-2</td>\n",
       "    </tr>\n",
       "    <tr>\n",
       "      <th>56634</th>\n",
       "      <td>2</td>\n",
       "      <td>2</td>\n",
       "      <td>1</td>\n",
       "      <td>0</td>\n",
       "      <td>14.623205</td>\n",
       "      <td>4.263755</td>\n",
       "      <td>-17.958017</td>\n",
       "      <td>1</td>\n",
       "      <td>2</td>\n",
       "      <td>-2</td>\n",
       "    </tr>\n",
       "    <tr>\n",
       "      <th>56655</th>\n",
       "      <td>2883</td>\n",
       "      <td>3</td>\n",
       "      <td>1</td>\n",
       "      <td>0</td>\n",
       "      <td>13.754028</td>\n",
       "      <td>4.693986</td>\n",
       "      <td>-18.139164</td>\n",
       "      <td>1</td>\n",
       "      <td>1</td>\n",
       "      <td>-2</td>\n",
       "    </tr>\n",
       "    <tr>\n",
       "      <th>56657</th>\n",
       "      <td>2884</td>\n",
       "      <td>4</td>\n",
       "      <td>1</td>\n",
       "      <td>0</td>\n",
       "      <td>13.554058</td>\n",
       "      <td>5.543854</td>\n",
       "      <td>-18.562827</td>\n",
       "      <td>1</td>\n",
       "      <td>1</td>\n",
       "      <td>-2</td>\n",
       "    </tr>\n",
       "    <tr>\n",
       "      <th>56679</th>\n",
       "      <td>2885</td>\n",
       "      <td>5</td>\n",
       "      <td>1</td>\n",
       "      <td>0</td>\n",
       "      <td>12.843875</td>\n",
       "      <td>6.112469</td>\n",
       "      <td>-18.921424</td>\n",
       "      <td>1</td>\n",
       "      <td>1</td>\n",
       "      <td>-2</td>\n",
       "    </tr>\n",
       "    <tr>\n",
       "      <th>...</th>\n",
       "      <td>...</td>\n",
       "      <td>...</td>\n",
       "      <td>...</td>\n",
       "      <td>...</td>\n",
       "      <td>...</td>\n",
       "      <td>...</td>\n",
       "      <td>...</td>\n",
       "      <td>...</td>\n",
       "      <td>...</td>\n",
       "      <td>...</td>\n",
       "    </tr>\n",
       "    <tr>\n",
       "      <th>7466</th>\n",
       "      <td>42476</td>\n",
       "      <td>716</td>\n",
       "      <td>100</td>\n",
       "      <td>0</td>\n",
       "      <td>-18.603106</td>\n",
       "      <td>-7.380184</td>\n",
       "      <td>-25.152500</td>\n",
       "      <td>2</td>\n",
       "      <td>1</td>\n",
       "      <td>-2</td>\n",
       "    </tr>\n",
       "    <tr>\n",
       "      <th>7463</th>\n",
       "      <td>42477</td>\n",
       "      <td>717</td>\n",
       "      <td>100</td>\n",
       "      <td>0</td>\n",
       "      <td>-19.337360</td>\n",
       "      <td>-7.686314</td>\n",
       "      <td>-25.641890</td>\n",
       "      <td>2</td>\n",
       "      <td>1</td>\n",
       "      <td>-2</td>\n",
       "    </tr>\n",
       "    <tr>\n",
       "      <th>7214</th>\n",
       "      <td>42478</td>\n",
       "      <td>718</td>\n",
       "      <td>100</td>\n",
       "      <td>0</td>\n",
       "      <td>-19.907872</td>\n",
       "      <td>-8.264914</td>\n",
       "      <td>-26.112752</td>\n",
       "      <td>2</td>\n",
       "      <td>1</td>\n",
       "      <td>-2</td>\n",
       "    </tr>\n",
       "    <tr>\n",
       "      <th>7212</th>\n",
       "      <td>42479</td>\n",
       "      <td>719</td>\n",
       "      <td>100</td>\n",
       "      <td>0</td>\n",
       "      <td>-20.871989</td>\n",
       "      <td>-8.639038</td>\n",
       "      <td>-26.442824</td>\n",
       "      <td>2</td>\n",
       "      <td>1</td>\n",
       "      <td>-2</td>\n",
       "    </tr>\n",
       "    <tr>\n",
       "      <th>7189</th>\n",
       "      <td>42480</td>\n",
       "      <td>720</td>\n",
       "      <td>100</td>\n",
       "      <td>0</td>\n",
       "      <td>-20.524612</td>\n",
       "      <td>-8.847502</td>\n",
       "      <td>-27.329956</td>\n",
       "      <td>2</td>\n",
       "      <td>1</td>\n",
       "      <td>-2</td>\n",
       "    </tr>\n",
       "  </tbody>\n",
       "</table>\n",
       "<p>72000 rows × 10 columns</p>\n",
       "</div>"
      ],
      "text/plain": [
       "       atomid  molid  atype  q          x         y          z  nx  ny  nz\n",
       "56636       1      1      1  0  15.499626  3.780977 -17.971203   1   2  -2\n",
       "56634       2      2      1  0  14.623205  4.263755 -17.958017   1   2  -2\n",
       "56655    2883      3      1  0  13.754028  4.693986 -18.139164   1   1  -2\n",
       "56657    2884      4      1  0  13.554058  5.543854 -18.562827   1   1  -2\n",
       "56679    2885      5      1  0  12.843875  6.112469 -18.921424   1   1  -2\n",
       "...       ...    ...    ... ..        ...       ...        ...  ..  ..  ..\n",
       "7466    42476    716    100  0 -18.603106 -7.380184 -25.152500   2   1  -2\n",
       "7463    42477    717    100  0 -19.337360 -7.686314 -25.641890   2   1  -2\n",
       "7214    42478    718    100  0 -19.907872 -8.264914 -26.112752   2   1  -2\n",
       "7212    42479    719    100  0 -20.871989 -8.639038 -26.442824   2   1  -2\n",
       "7189    42480    720    100  0 -20.524612 -8.847502 -27.329956   2   1  -2\n",
       "\n",
       "[72000 rows x 10 columns]"
      ]
     },
     "execution_count": 32,
     "metadata": {},
     "output_type": "execute_result"
    }
   ],
   "source": [
    "sort_atoms"
   ]
  },
  {
   "cell_type": "markdown",
   "id": "3692c9f4-83a0-4ae6-8a6b-c627076b3ccd",
   "metadata": {
    "tags": []
   },
   "source": [
    "newid_list = []\n",
    "for molid in range(1,251):\n",
    "    temp_df = sort_atoms.query(f'atype == {molid}')\n",
    "    atmid_arr = temp_df[\"atomid\"].tolist()\n",
    "    for _ in atmid_arr:\n",
    "        if _%480 ==0:\n",
    "            newid_list.append(molid*480)\n",
    "        else:\n",
    "            newid_list.append(_%480 + molid*480 - 480)"
   ]
  },
  {
   "cell_type": "code",
   "execution_count": 33,
   "id": "e592b018-7fa6-45eb-ad9c-76580af52b6c",
   "metadata": {
    "tags": []
   },
   "outputs": [],
   "source": [
    "newatype = []\n",
    "for _ in sort_atoms['atomid'].tolist():\n",
    "    if _%720 in range(1,81):\n",
    "        newatype.append(1)\n",
    "    else:\n",
    "        newatype.append(2)\n",
    "sort_atoms['atype'] = newatype"
   ]
  },
  {
   "cell_type": "code",
   "execution_count": 35,
   "id": "527ad2ed-4c1e-4fa5-89f9-cab3b44e0f07",
   "metadata": {
    "tags": []
   },
   "outputs": [],
   "source": [
    "sort_atoms['atomid'] = np.arange(1,len(newatype)+1)\n"
   ]
  },
  {
   "cell_type": "code",
   "execution_count": 36,
   "id": "415ad9e1-58ab-47c8-8aad-1622363c1f1b",
   "metadata": {
    "tags": []
   },
   "outputs": [],
   "source": [
    "sort_atoms[['atomid','molid','atype','q','x','y','z']].to_csv(base + \"atoms\",index=None,header=None,sep=\" \")"
   ]
  },
  {
   "cell_type": "code",
   "execution_count": null,
   "id": "30ea9af7-1afa-44c9-8eca-69efbf73eaf1",
   "metadata": {},
   "outputs": [],
   "source": []
  },
  {
   "cell_type": "markdown",
   "id": "c0a57682-e7a5-4a7e-accc-9b9ec19c19db",
   "metadata": {
    "tags": []
   },
   "source": [
    "two filaments"
   ]
  },
  {
   "cell_type": "code",
   "execution_count": null,
   "id": "6e423757-f762-47c6-8968-37607e40225c",
   "metadata": {
    "tags": []
   },
   "outputs": [],
   "source": [
    "base2 = r\"./\"\n",
    "atom_coord = pd.read_csv(base2 + \"data.out_\",header=None,skiprows=229,nrows=320000,sep=\"\\s+\")"
   ]
  },
  {
   "cell_type": "code",
   "execution_count": null,
   "id": "76c86c35-d7f8-4f4a-bc3d-28e7c67f85a0",
   "metadata": {
    "tags": []
   },
   "outputs": [],
   "source": [
    "atom_coord.columns = ['atid','molid','atype','q','x','y','z','nx','ny','nz']"
   ]
  },
  {
   "cell_type": "code",
   "execution_count": null,
   "id": "935286c4-16e9-4c70-8a05-fe12d8259dc4",
   "metadata": {
    "tags": []
   },
   "outputs": [],
   "source": [
    "sort_atom_coord = atom_coord.sort_values(by = 'atid')"
   ]
  },
  {
   "cell_type": "code",
   "execution_count": null,
   "id": "e6fd9923-c080-4462-835d-54cb86d130df",
   "metadata": {
    "tags": []
   },
   "outputs": [],
   "source": [
    "sort_atom_coord"
   ]
  },
  {
   "cell_type": "code",
   "execution_count": null,
   "id": "1b4b6c40-6666-49ad-b5f0-11bcbf8488d8",
   "metadata": {
    "tags": []
   },
   "outputs": [],
   "source": [
    "new_type = []\n",
    "for mol in sort_atom_coord['molid'].tolist():\n",
    "    if mol%100 <= 80 and mol%100 >0:\n",
    "        new_type.append(2)\n",
    "    else:\n",
    "        new_type.append(1)"
   ]
  },
  {
   "cell_type": "code",
   "execution_count": null,
   "id": "3c495957-6718-47f8-a78a-fda46bdd0b64",
   "metadata": {
    "tags": []
   },
   "outputs": [],
   "source": [
    "sort_atom_coord['atype'] = new_type"
   ]
  },
  {
   "cell_type": "code",
   "execution_count": null,
   "id": "cc6d3ba2-671f-4e8d-9cff-f250943b0a90",
   "metadata": {
    "tags": []
   },
   "outputs": [],
   "source": [
    "sort_atom_coord.to_csv(base2 + \"/sort_atom_phasesep.dat\",header=None,index=None,sep=\" \")"
   ]
  },
  {
   "cell_type": "markdown",
   "id": "2f001765-f5cb-48c4-bec0-2f4a9a5b4a19",
   "metadata": {},
   "source": [
    "DC accelerate"
   ]
  },
  {
   "cell_type": "code",
   "execution_count": null,
   "id": "4bb11b0a-6141-4262-aaf3-a37d31b4e690",
   "metadata": {
    "tags": []
   },
   "outputs": [],
   "source": [
    "atom_df = pd.read_csv(\"./data.out\",skiprows=529,nrows=40000,sep=\"\\s+\",header=None)\n",
    "atom_df.columns = ['atid','molid','atype','q','x','y','z','xu','yu','zu']"
   ]
  },
  {
   "cell_type": "code",
   "execution_count": null,
   "id": "04f74c04-2bb2-486b-97bc-ac2d8b846dba",
   "metadata": {
    "tags": []
   },
   "outputs": [],
   "source": [
    "atdf = atom_df.sort_values(by = 'atid')"
   ]
  },
  {
   "cell_type": "code",
   "execution_count": null,
   "id": "f1320a53-3033-437b-9498-7dcd7a06e5b0",
   "metadata": {
    "tags": []
   },
   "outputs": [],
   "source": [
    "molid_arr = []\n",
    "for i in range(250):\n",
    "    temp_bb = [_+i*100 for _ in range(1,81)]\n",
    "    temp_sc = [_+i*100 for _ in range(81,85)]*20\n",
    "    temp = temp_bb + temp_sc\n",
    "    molid_arr.extend(temp)"
   ]
  },
  {
   "cell_type": "code",
   "execution_count": null,
   "id": "768864f6-2267-4981-b37e-cc8fabefe445",
   "metadata": {
    "tags": []
   },
   "outputs": [],
   "source": [
    "atdf['molid'] = molid_arr"
   ]
  },
  {
   "cell_type": "code",
   "execution_count": null,
   "id": "8c8c3878-c0a9-4cc8-9ae6-58c71fee077d",
   "metadata": {
    "tags": []
   },
   "outputs": [],
   "source": [
    "atdf"
   ]
  },
  {
   "cell_type": "code",
   "execution_count": null,
   "id": "d9a02570-d62b-47f5-ae17-af1eb70fb82d",
   "metadata": {},
   "outputs": [],
   "source": [
    "atdf.to_csv('./atom2',index=None,header=None,sep=\" \")"
   ]
  }
 ],
 "metadata": {
  "kernelspec": {
   "display_name": "Python 3 (ipykernel)",
   "language": "python",
   "name": "python3"
  },
  "language_info": {
   "codemirror_mode": {
    "name": "ipython",
    "version": 3
   },
   "file_extension": ".py",
   "mimetype": "text/x-python",
   "name": "python",
   "nbconvert_exporter": "python",
   "pygments_lexer": "ipython3",
   "version": "3.11.4"
  }
 },
 "nbformat": 4,
 "nbformat_minor": 5
}
