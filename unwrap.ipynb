{
 "cells": [
  {
   "cell_type": "code",
   "execution_count": 1,
   "id": "e42d7a8a-5a59-4c97-99a8-e135547ef7ad",
   "metadata": {
    "tags": []
   },
   "outputs": [],
   "source": [
    "import pandas as pd\n",
    "import numpy as np"
   ]
  },
  {
   "cell_type": "markdown",
   "id": "dd2debe6-4d2e-4cf2-8f98-db2fddbf19e5",
   "metadata": {
    "tags": []
   },
   "source": [
    "unswap atoms"
   ]
  },
  {
   "cell_type": "code",
   "execution_count": 4,
   "id": "d1f2a196-ce8c-4078-beb5-8a28cb067fcb",
   "metadata": {
    "tags": []
   },
   "outputs": [],
   "source": [
    "base = r\"./comb/\"\n",
    "filename = base + \"data.npt\"\n",
    "fopen = open(filename,\"r\")\n",
    "flines = fopen.readlines()\n",
    "fopen.close()"
   ]
  },
  {
   "cell_type": "code",
   "execution_count": 6,
   "id": "b33e2fd0-7687-4f7d-9b8b-21eb98c33acb",
   "metadata": {
    "tags": []
   },
   "outputs": [],
   "source": [
    "bonds_map = list()\n",
    "for _ in flines[80535:120285]:\n",
    "    tmp = []\n",
    "    atomi = int(_.split()[2])\n",
    "    atomj = int(_.split()[3])\n",
    "    tmp=[min(atomi,atomj),max(atomi,atomj)]\n",
    "    bonds_map.append(tmp)\n",
    "    \n",
    "bonds_map.sort()"
   ]
  },
  {
   "cell_type": "code",
   "execution_count": 8,
   "id": "f84dc3ff-aedd-4d2c-afa9-f69cbaa45152",
   "metadata": {
    "tags": []
   },
   "outputs": [],
   "source": [
    "def add_edge(graph, u, v):\n",
    "    if u not in graph:\n",
    "        graph[u] = []\n",
    "    if v not in graph:\n",
    "        graph[v] = []\n",
    "    graph[u].append(v)\n",
    "    graph[v].append(u)\n",
    "\n",
    "def dfs(node, graph, visited, component):\n",
    "    # Stack for the nodes to visit\n",
    "    stack = [node]\n",
    "    while stack:\n",
    "        current = stack.pop()\n",
    "        if current not in visited:\n",
    "            visited.add(current)\n",
    "            component.append(current)\n",
    "            for neighbor in graph[current]:\n",
    "                if neighbor not in visited:\n",
    "                    stack.append(neighbor)\n",
    "\n",
    "def find_connected_components(connections):\n",
    "    graph = {}\n",
    "    # Building the graph\n",
    "    for u, v in connections:\n",
    "        add_edge(graph, u, v)\n",
    "    \n",
    "    visited = set()\n",
    "    components = []\n",
    "\n",
    "    # Finding all components\n",
    "    for node in graph:\n",
    "        if node not in visited:\n",
    "            component = []\n",
    "            dfs(node, graph, visited, component)\n",
    "            components.append(component)\n",
    "    \n",
    "    return components\n",
    "\n",
    "# Example usage\n",
    "connections = bonds_map\n",
    "#components = find_connected_components(connections)\n",
    "#for i, component in enumerate(components):\n",
    "    #print(f\"Group {i + 1}: {component}\")\n",
    "\n",
    "reshuffled_chains = find_connected_components(connections)"
   ]
  },
  {
   "cell_type": "raw",
   "id": "66869750-79ca-445c-af46-e4a004b98cbe",
   "metadata": {
    "tags": []
   },
   "source": [
    "reshuffled_chains = list()\n",
    "for ichain in range(600):\n",
    "    result = set(bonds_map[0])\n",
    "    dropset = list()\n",
    "    while len(result) < 600:\n",
    "        for index in range(len(bonds_map)):\n",
    "            if result.intersection(bonds_map[index]):\n",
    "                result = result.union(set(bonds_map[index]))\n",
    "                dropset.append(index)\n",
    "                \n",
    "    reshuffled_chains.append(list(result))\n",
    "\n",
    "    items2remove = [bonds_map[_] for _ in set(dropset)]\n",
    "    for _ in items2remove:\n",
    "        bonds_map.remove(_)"
   ]
  },
  {
   "cell_type": "code",
   "execution_count": 10,
   "id": "4d247d9c-4a80-4277-95f6-c486d683d00f",
   "metadata": {
    "tags": []
   },
   "outputs": [
    {
     "data": {
      "text/plain": [
       "160"
      ]
     },
     "execution_count": 10,
     "metadata": {},
     "output_type": "execute_result"
    }
   ],
   "source": [
    "len(reshuffled_chains[-1])"
   ]
  },
  {
   "cell_type": "code",
   "execution_count": 12,
   "id": "6e05a67f-ce0a-47f1-82ce-138025a21455",
   "metadata": {
    "tags": []
   },
   "outputs": [],
   "source": [
    "swapedatom_df = pd.read_csv(base + \"data.npt\",skiprows=529,nrows=40000 ,sep=\"\\s+\",header=None)"
   ]
  },
  {
   "cell_type": "code",
   "execution_count": 14,
   "id": "68164890-6abd-4a19-9d00-ab4840f3c4b4",
   "metadata": {
    "tags": []
   },
   "outputs": [],
   "source": [
    "swapedatom_df.columns=['atomid','molid','atype','q','x','y','z','nx','ny','nz']"
   ]
  },
  {
   "cell_type": "code",
   "execution_count": 16,
   "id": "f2874866-4d8a-4116-8823-d15a5c53d1cb",
   "metadata": {
    "tags": []
   },
   "outputs": [
    {
     "data": {
      "text/html": [
       "<div>\n",
       "<style scoped>\n",
       "    .dataframe tbody tr th:only-of-type {\n",
       "        vertical-align: middle;\n",
       "    }\n",
       "\n",
       "    .dataframe tbody tr th {\n",
       "        vertical-align: top;\n",
       "    }\n",
       "\n",
       "    .dataframe thead th {\n",
       "        text-align: right;\n",
       "    }\n",
       "</style>\n",
       "<table border=\"1\" class=\"dataframe\">\n",
       "  <thead>\n",
       "    <tr style=\"text-align: right;\">\n",
       "      <th></th>\n",
       "      <th>atomid</th>\n",
       "      <th>molid</th>\n",
       "      <th>atype</th>\n",
       "      <th>q</th>\n",
       "      <th>x</th>\n",
       "      <th>y</th>\n",
       "      <th>z</th>\n",
       "      <th>nx</th>\n",
       "      <th>ny</th>\n",
       "      <th>nz</th>\n",
       "    </tr>\n",
       "  </thead>\n",
       "  <tbody>\n",
       "    <tr>\n",
       "      <th>0</th>\n",
       "      <td>7344</td>\n",
       "      <td>144</td>\n",
       "      <td>46</td>\n",
       "      <td>0</td>\n",
       "      <td>-17.104407</td>\n",
       "      <td>-15.483123</td>\n",
       "      <td>-16.595824</td>\n",
       "      <td>0</td>\n",
       "      <td>1</td>\n",
       "      <td>0</td>\n",
       "    </tr>\n",
       "    <tr>\n",
       "      <th>1</th>\n",
       "      <td>12913</td>\n",
       "      <td>113</td>\n",
       "      <td>81</td>\n",
       "      <td>0</td>\n",
       "      <td>-17.422569</td>\n",
       "      <td>-16.465823</td>\n",
       "      <td>-17.150659</td>\n",
       "      <td>1</td>\n",
       "      <td>1</td>\n",
       "      <td>0</td>\n",
       "    </tr>\n",
       "    <tr>\n",
       "      <th>2</th>\n",
       "      <td>17335</td>\n",
       "      <td>55</td>\n",
       "      <td>109</td>\n",
       "      <td>0</td>\n",
       "      <td>-16.718993</td>\n",
       "      <td>-16.513005</td>\n",
       "      <td>-14.367457</td>\n",
       "      <td>1</td>\n",
       "      <td>1</td>\n",
       "      <td>0</td>\n",
       "    </tr>\n",
       "    <tr>\n",
       "      <th>3</th>\n",
       "      <td>17409</td>\n",
       "      <td>129</td>\n",
       "      <td>109</td>\n",
       "      <td>0</td>\n",
       "      <td>-16.199152</td>\n",
       "      <td>-15.941772</td>\n",
       "      <td>-16.429598</td>\n",
       "      <td>1</td>\n",
       "      <td>1</td>\n",
       "      <td>0</td>\n",
       "    </tr>\n",
       "    <tr>\n",
       "      <th>4</th>\n",
       "      <td>13483</td>\n",
       "      <td>43</td>\n",
       "      <td>85</td>\n",
       "      <td>0</td>\n",
       "      <td>-17.525664</td>\n",
       "      <td>-8.833125</td>\n",
       "      <td>-14.634577</td>\n",
       "      <td>0</td>\n",
       "      <td>1</td>\n",
       "      <td>0</td>\n",
       "    </tr>\n",
       "    <tr>\n",
       "      <th>...</th>\n",
       "      <td>...</td>\n",
       "      <td>...</td>\n",
       "      <td>...</td>\n",
       "      <td>...</td>\n",
       "      <td>...</td>\n",
       "      <td>...</td>\n",
       "      <td>...</td>\n",
       "      <td>...</td>\n",
       "      <td>...</td>\n",
       "      <td>...</td>\n",
       "    </tr>\n",
       "    <tr>\n",
       "      <th>39995</th>\n",
       "      <td>39972</td>\n",
       "      <td>132</td>\n",
       "      <td>250</td>\n",
       "      <td>0</td>\n",
       "      <td>13.196246</td>\n",
       "      <td>12.101633</td>\n",
       "      <td>8.937778</td>\n",
       "      <td>0</td>\n",
       "      <td>1</td>\n",
       "      <td>-1</td>\n",
       "    </tr>\n",
       "    <tr>\n",
       "      <th>39996</th>\n",
       "      <td>34138</td>\n",
       "      <td>58</td>\n",
       "      <td>214</td>\n",
       "      <td>0</td>\n",
       "      <td>13.340304</td>\n",
       "      <td>3.475502</td>\n",
       "      <td>8.947482</td>\n",
       "      <td>0</td>\n",
       "      <td>1</td>\n",
       "      <td>-1</td>\n",
       "    </tr>\n",
       "    <tr>\n",
       "      <th>39997</th>\n",
       "      <td>33753</td>\n",
       "      <td>153</td>\n",
       "      <td>211</td>\n",
       "      <td>0</td>\n",
       "      <td>13.271608</td>\n",
       "      <td>6.499426</td>\n",
       "      <td>8.939222</td>\n",
       "      <td>-1</td>\n",
       "      <td>1</td>\n",
       "      <td>-1</td>\n",
       "    </tr>\n",
       "    <tr>\n",
       "      <th>39998</th>\n",
       "      <td>20148</td>\n",
       "      <td>148</td>\n",
       "      <td>126</td>\n",
       "      <td>0</td>\n",
       "      <td>15.964688</td>\n",
       "      <td>12.959147</td>\n",
       "      <td>9.011437</td>\n",
       "      <td>-1</td>\n",
       "      <td>0</td>\n",
       "      <td>-1</td>\n",
       "    </tr>\n",
       "    <tr>\n",
       "      <th>39999</th>\n",
       "      <td>34143</td>\n",
       "      <td>63</td>\n",
       "      <td>214</td>\n",
       "      <td>0</td>\n",
       "      <td>14.247260</td>\n",
       "      <td>0.335325</td>\n",
       "      <td>8.995591</td>\n",
       "      <td>0</td>\n",
       "      <td>1</td>\n",
       "      <td>-1</td>\n",
       "    </tr>\n",
       "  </tbody>\n",
       "</table>\n",
       "<p>40000 rows × 10 columns</p>\n",
       "</div>"
      ],
      "text/plain": [
       "       atomid  molid  atype  q          x          y          z  nx  ny  nz\n",
       "0        7344    144     46  0 -17.104407 -15.483123 -16.595824   0   1   0\n",
       "1       12913    113     81  0 -17.422569 -16.465823 -17.150659   1   1   0\n",
       "2       17335     55    109  0 -16.718993 -16.513005 -14.367457   1   1   0\n",
       "3       17409    129    109  0 -16.199152 -15.941772 -16.429598   1   1   0\n",
       "4       13483     43     85  0 -17.525664  -8.833125 -14.634577   0   1   0\n",
       "...       ...    ...    ... ..        ...        ...        ...  ..  ..  ..\n",
       "39995   39972    132    250  0  13.196246  12.101633   8.937778   0   1  -1\n",
       "39996   34138     58    214  0  13.340304   3.475502   8.947482   0   1  -1\n",
       "39997   33753    153    211  0  13.271608   6.499426   8.939222  -1   1  -1\n",
       "39998   20148    148    126  0  15.964688  12.959147   9.011437  -1   0  -1\n",
       "39999   34143     63    214  0  14.247260   0.335325   8.995591   0   1  -1\n",
       "\n",
       "[40000 rows x 10 columns]"
      ]
     },
     "execution_count": 16,
     "metadata": {},
     "output_type": "execute_result"
    }
   ],
   "source": [
    "swapedatom_df"
   ]
  },
  {
   "cell_type": "code",
   "execution_count": 18,
   "id": "0a38cdc7-3497-41d2-beb7-43db2d078185",
   "metadata": {
    "tags": []
   },
   "outputs": [],
   "source": [
    "for ichain, chain in enumerate(reshuffled_chains):\n",
    "#    atoms.query('atomid==@chain')['type']=ichain+1\n",
    "    tmp = swapedatom_df.query('atomid==@chain')\n",
    "    index_arr = tmp.index\n",
    "    swapedatom_df.loc[index_arr,'atype']=ichain+1\n",
    "sort_atoms = swapedatom_df.sort_values(by=['atype','molid'])"
   ]
  },
  {
   "cell_type": "code",
   "execution_count": 41,
   "id": "02417f4c-5256-4ed5-98be-dd075076e3d7",
   "metadata": {
    "tags": []
   },
   "outputs": [],
   "source": [
    "bb_list = [_ for _ in range(1,81)]\n",
    "sc_lists = []\n",
    "for i in range(20):\n",
    "    sc_temp = [3 + i*4] + [_ for _ in range(81+i*4, 85+i*4)]\n",
    "    sc_lists.append(sc_temp)\n",
    "\n",
    "#sc_1 = [3] + [_ for _ in range(81, 93)]\n",
    "#sc_2 = [7] + [_ for _ in range(93, 105)]\n",
    "#sc_3 = [11] + [_ for _ in range(105, 117)]\n",
    "#sc_4 = [15] + [_ for _ in range(117, 129)]\n",
    "#sc_5 = [19] +[_ for _ in range(129, 141)]\n",
    "#sc_6 = [23] +[_ for _ in range(141, 153)]\n",
    "#sc_7 = [27] +[_ for _ in range(153, 165)]\n",
    "#sc_7 = [31] +[_ for _ in range(165, 177)]\n",
    "#sc_8 = [35] +[_ for _ in range(177, 189)]\n",
    "#sc_9 = [39] +[_ for _ in range(189, 201)]\n",
    "#sc_10 = [43] +[_ for _ in range(201, 213)]\n",
    "#sc_11 = [43] +[_ for _ in range(201, 213)]\n",
    "#sc_lists =[sc_1, sc_2, sc_3, sc_4, sc_5, sc_6, sc_7]"
   ]
  },
  {
   "cell_type": "markdown",
   "id": "d385b0c9-0825-4aa0-8220-1b50e0bbe4c7",
   "metadata": {
    "tags": []
   },
   "source": [
    "backbone_clean"
   ]
  },
  {
   "cell_type": "code",
   "execution_count": 47,
   "id": "9fc788d0-c78d-4b60-9032-6318d686ae4e",
   "metadata": {
    "tags": []
   },
   "outputs": [],
   "source": [
    "for index_atype in range(1,251):\n",
    "    pointer = 0;\n",
    "    while pointer <= len(bb_list)-2:\n",
    "        jdx = bb_list[pointer]\n",
    "        jdx_1 = bb_list[pointer + 1]\n",
    "        \n",
    "        index_j = sort_atoms.query(f'atype=={index_atype} & molid=={jdx}').index\n",
    "        index_k = sort_atoms.query(f'atype=={index_atype} & molid=={jdx_1}').index\n",
    "        thisx = sort_atoms.loc[index_j,'x'].values[0]\n",
    "        thatx = sort_atoms.loc[index_k,'x'].values[0]\n",
    "        \n",
    "        if thatx - thisx > 5:\n",
    "            sort_atoms.loc[index_k,'x'] -= 17.804289634510873*2\n",
    "        elif thatx - thisx < -5:\n",
    "            sort_atoms.loc[index_k,'x'] += 17.804289634510873*2\n",
    "        else:\n",
    "            pass\n",
    "        \n",
    "        thisy = sort_atoms.loc[index_j,'y'].values[0]\n",
    "        thaty = sort_atoms.loc[index_k,'y'].values[0]\n",
    "        \n",
    "        if thaty - thisy > 5:\n",
    "            sort_atoms.loc[index_k,'y'] -= 17.804289634510873*2\n",
    "        elif thaty - thisy < -5:\n",
    "            sort_atoms.loc[index_k,'y'] += 17.804289634510873*2\n",
    "        else:\n",
    "            pass\n",
    "        \n",
    "        thisz = sort_atoms.loc[index_j,'z'].values[0]\n",
    "        thatz = sort_atoms.loc[index_k,'z'].values[0]\n",
    "        \n",
    "        if thatz - thisz > 5:\n",
    "            sort_atoms.loc[index_k,'z'] -= 17.804289634510873*2\n",
    "        elif thatz - thisz < -5:\n",
    "            sort_atoms.loc[index_k,'z'] += 17.804289634510873*2\n",
    "        else:\n",
    "            pass\n",
    "        \n",
    "        pointer += 1\n",
    "        \n",
    "    "
   ]
  },
  {
   "cell_type": "code",
   "execution_count": 51,
   "id": "cdd7d083-7da4-4a1f-8b56-9c68b4ff9fe2",
   "metadata": {
    "tags": []
   },
   "outputs": [],
   "source": [
    "###sidechain###\n",
    "for index_atype in range(1,251):\n",
    "    for index_of_sc in range(len(sc_lists)):\n",
    "        sc_arr = sc_lists[index_of_sc]\n",
    "        pointer = 0;\n",
    "        while pointer < 4:\n",
    "            jdx = sc_arr[pointer]\n",
    "            jdx_1 = sc_arr[pointer + 1]\n",
    "        \n",
    "            index_j = sort_atoms.query(f'atype=={index_atype} & molid=={jdx}').index\n",
    "            index_k = sort_atoms.query(f'atype=={index_atype} & molid=={jdx_1}').index\n",
    "            thisx = sort_atoms.loc[index_j,'x'].values[0]\n",
    "            thatx = sort_atoms.loc[index_k,'x'].values[0]\n",
    "        \n",
    "            if thatx - thisx > 5:\n",
    "                sort_atoms.loc[index_k,'x'] -= 17.804289634510873*2\n",
    "            elif thatx - thisx < -5:\n",
    "                sort_atoms.loc[index_k,'x'] += 17.804289634510873*2\n",
    "            else:\n",
    "                pass\n",
    "        \n",
    "            thisy = sort_atoms.loc[index_j,'y'].values[0]\n",
    "            thaty = sort_atoms.loc[index_k,'y'].values[0]\n",
    "        \n",
    "            if thaty - thisy > 5:\n",
    "                sort_atoms.loc[index_k,'y'] -= 17.804289634510873*2\n",
    "            elif thaty - thisy < -5:\n",
    "                sort_atoms.loc[index_k,'y'] += 17.804289634510873*2\n",
    "            else:\n",
    "                pass\n",
    "        \n",
    "            thisz = sort_atoms.loc[index_j,'z'].values[0]\n",
    "            thatz = sort_atoms.loc[index_k,'z'].values[0]\n",
    "        \n",
    "            if thatz - thisz > 5:\n",
    "                sort_atoms.loc[index_k,'z'] -= 17.804289634510873*2\n",
    "            elif thatz - thisz < -5:\n",
    "                sort_atoms.loc[index_k,'z'] += 17.804289634510873*2\n",
    "            else:\n",
    "                pass\n",
    "        \n",
    "            pointer += 1\n"
   ]
  },
  {
   "cell_type": "code",
   "execution_count": 53,
   "id": "e683bdaf-e9df-423d-bbd9-0cbb4cdc04cc",
   "metadata": {
    "tags": []
   },
   "outputs": [],
   "source": [
    "sort_atoms['molid'] = sort_atoms['atype']"
   ]
  },
  {
   "cell_type": "code",
   "execution_count": 55,
   "id": "1f6c083f-4b77-48ad-919d-23233d62929e",
   "metadata": {
    "tags": []
   },
   "outputs": [
    {
     "data": {
      "text/html": [
       "<div>\n",
       "<style scoped>\n",
       "    .dataframe tbody tr th:only-of-type {\n",
       "        vertical-align: middle;\n",
       "    }\n",
       "\n",
       "    .dataframe tbody tr th {\n",
       "        vertical-align: top;\n",
       "    }\n",
       "\n",
       "    .dataframe thead th {\n",
       "        text-align: right;\n",
       "    }\n",
       "</style>\n",
       "<table border=\"1\" class=\"dataframe\">\n",
       "  <thead>\n",
       "    <tr style=\"text-align: right;\">\n",
       "      <th></th>\n",
       "      <th>atomid</th>\n",
       "      <th>molid</th>\n",
       "      <th>atype</th>\n",
       "      <th>q</th>\n",
       "      <th>x</th>\n",
       "      <th>y</th>\n",
       "      <th>z</th>\n",
       "      <th>nx</th>\n",
       "      <th>ny</th>\n",
       "      <th>nz</th>\n",
       "    </tr>\n",
       "  </thead>\n",
       "  <tbody>\n",
       "    <tr>\n",
       "      <th>1955</th>\n",
       "      <td>1</td>\n",
       "      <td>1</td>\n",
       "      <td>1</td>\n",
       "      <td>0</td>\n",
       "      <td>-15.277157</td>\n",
       "      <td>-0.480414</td>\n",
       "      <td>5.710104</td>\n",
       "      <td>1</td>\n",
       "      <td>1</td>\n",
       "      <td>-1</td>\n",
       "    </tr>\n",
       "    <tr>\n",
       "      <th>1959</th>\n",
       "      <td>2</td>\n",
       "      <td>1</td>\n",
       "      <td>1</td>\n",
       "      <td>0</td>\n",
       "      <td>-15.539826</td>\n",
       "      <td>-0.910968</td>\n",
       "      <td>6.526660</td>\n",
       "      <td>1</td>\n",
       "      <td>1</td>\n",
       "      <td>-1</td>\n",
       "    </tr>\n",
       "    <tr>\n",
       "      <th>1940</th>\n",
       "      <td>3</td>\n",
       "      <td>1</td>\n",
       "      <td>1</td>\n",
       "      <td>0</td>\n",
       "      <td>-15.576905</td>\n",
       "      <td>-1.862841</td>\n",
       "      <td>6.821902</td>\n",
       "      <td>1</td>\n",
       "      <td>1</td>\n",
       "      <td>-1</td>\n",
       "    </tr>\n",
       "    <tr>\n",
       "      <th>1938</th>\n",
       "      <td>4</td>\n",
       "      <td>1</td>\n",
       "      <td>1</td>\n",
       "      <td>0</td>\n",
       "      <td>-16.087590</td>\n",
       "      <td>-2.568026</td>\n",
       "      <td>6.429268</td>\n",
       "      <td>1</td>\n",
       "      <td>1</td>\n",
       "      <td>-1</td>\n",
       "    </tr>\n",
       "    <tr>\n",
       "      <th>1951</th>\n",
       "      <td>5</td>\n",
       "      <td>1</td>\n",
       "      <td>1</td>\n",
       "      <td>0</td>\n",
       "      <td>-16.301786</td>\n",
       "      <td>-3.133061</td>\n",
       "      <td>5.635655</td>\n",
       "      <td>1</td>\n",
       "      <td>1</td>\n",
       "      <td>-1</td>\n",
       "    </tr>\n",
       "    <tr>\n",
       "      <th>...</th>\n",
       "      <td>...</td>\n",
       "      <td>...</td>\n",
       "      <td>...</td>\n",
       "      <td>...</td>\n",
       "      <td>...</td>\n",
       "      <td>...</td>\n",
       "      <td>...</td>\n",
       "      <td>...</td>\n",
       "      <td>...</td>\n",
       "      <td>...</td>\n",
       "    </tr>\n",
       "    <tr>\n",
       "      <th>18492</th>\n",
       "      <td>23516</td>\n",
       "      <td>250</td>\n",
       "      <td>250</td>\n",
       "      <td>0</td>\n",
       "      <td>0.067089</td>\n",
       "      <td>-2.900193</td>\n",
       "      <td>-1.826526</td>\n",
       "      <td>0</td>\n",
       "      <td>0</td>\n",
       "      <td>-1</td>\n",
       "    </tr>\n",
       "    <tr>\n",
       "      <th>18709</th>\n",
       "      <td>23517</td>\n",
       "      <td>250</td>\n",
       "      <td>250</td>\n",
       "      <td>0</td>\n",
       "      <td>0.767551</td>\n",
       "      <td>-2.011542</td>\n",
       "      <td>0.476336</td>\n",
       "      <td>0</td>\n",
       "      <td>0</td>\n",
       "      <td>-1</td>\n",
       "    </tr>\n",
       "    <tr>\n",
       "      <th>18255</th>\n",
       "      <td>23518</td>\n",
       "      <td>250</td>\n",
       "      <td>250</td>\n",
       "      <td>0</td>\n",
       "      <td>1.036505</td>\n",
       "      <td>-2.606974</td>\n",
       "      <td>-0.186183</td>\n",
       "      <td>0</td>\n",
       "      <td>0</td>\n",
       "      <td>-1</td>\n",
       "    </tr>\n",
       "    <tr>\n",
       "      <th>18275</th>\n",
       "      <td>23519</td>\n",
       "      <td>250</td>\n",
       "      <td>250</td>\n",
       "      <td>0</td>\n",
       "      <td>1.827007</td>\n",
       "      <td>-3.124489</td>\n",
       "      <td>-0.514809</td>\n",
       "      <td>0</td>\n",
       "      <td>0</td>\n",
       "      <td>-1</td>\n",
       "    </tr>\n",
       "    <tr>\n",
       "      <th>18117</th>\n",
       "      <td>23520</td>\n",
       "      <td>250</td>\n",
       "      <td>250</td>\n",
       "      <td>0</td>\n",
       "      <td>1.518184</td>\n",
       "      <td>-3.029788</td>\n",
       "      <td>-1.465027</td>\n",
       "      <td>0</td>\n",
       "      <td>0</td>\n",
       "      <td>-1</td>\n",
       "    </tr>\n",
       "  </tbody>\n",
       "</table>\n",
       "<p>40000 rows × 10 columns</p>\n",
       "</div>"
      ],
      "text/plain": [
       "       atomid  molid  atype  q          x         y         z  nx  ny  nz\n",
       "1955        1      1      1  0 -15.277157 -0.480414  5.710104   1   1  -1\n",
       "1959        2      1      1  0 -15.539826 -0.910968  6.526660   1   1  -1\n",
       "1940        3      1      1  0 -15.576905 -1.862841  6.821902   1   1  -1\n",
       "1938        4      1      1  0 -16.087590 -2.568026  6.429268   1   1  -1\n",
       "1951        5      1      1  0 -16.301786 -3.133061  5.635655   1   1  -1\n",
       "...       ...    ...    ... ..        ...       ...       ...  ..  ..  ..\n",
       "18492   23516    250    250  0   0.067089 -2.900193 -1.826526   0   0  -1\n",
       "18709   23517    250    250  0   0.767551 -2.011542  0.476336   0   0  -1\n",
       "18255   23518    250    250  0   1.036505 -2.606974 -0.186183   0   0  -1\n",
       "18275   23519    250    250  0   1.827007 -3.124489 -0.514809   0   0  -1\n",
       "18117   23520    250    250  0   1.518184 -3.029788 -1.465027   0   0  -1\n",
       "\n",
       "[40000 rows x 10 columns]"
      ]
     },
     "execution_count": 55,
     "metadata": {},
     "output_type": "execute_result"
    }
   ],
   "source": [
    "sort_atoms"
   ]
  },
  {
   "cell_type": "code",
   "execution_count": 57,
   "id": "148b60a7-cbb1-486b-871b-2037e7769c20",
   "metadata": {
    "tags": []
   },
   "outputs": [],
   "source": [
    "newid_list = []\n",
    "for molid in range(1,251):\n",
    "    temp_df = sort_atoms.query(f'atype == {molid}')\n",
    "    atmid_arr = temp_df[\"atomid\"].tolist()\n",
    "    for _ in atmid_arr:\n",
    "        if _%160 ==0:\n",
    "            newid_list.append(molid*160)\n",
    "        else:\n",
    "            newid_list.append(_%160 + molid*160 - 160)"
   ]
  },
  {
   "cell_type": "code",
   "execution_count": 59,
   "id": "53dac215-a2b4-42c2-aa1c-b0116d909874",
   "metadata": {
    "tags": []
   },
   "outputs": [],
   "source": [
    "sort_atoms['atomid'] = newid_list"
   ]
  },
  {
   "cell_type": "code",
   "execution_count": null,
   "id": "e592b018-7fa6-45eb-ad9c-76580af52b6c",
   "metadata": {
    "tags": []
   },
   "outputs": [],
   "source": [
    "newatype = [1]*len(newid_list)\n",
    "sort_atoms['atype'] = newatype"
   ]
  },
  {
   "cell_type": "code",
   "execution_count": 61,
   "id": "5fb8f3d6-abe0-439f-bef8-34460386ce48",
   "metadata": {
    "tags": []
   },
   "outputs": [
    {
     "data": {
      "text/html": [
       "<div>\n",
       "<style scoped>\n",
       "    .dataframe tbody tr th:only-of-type {\n",
       "        vertical-align: middle;\n",
       "    }\n",
       "\n",
       "    .dataframe tbody tr th {\n",
       "        vertical-align: top;\n",
       "    }\n",
       "\n",
       "    .dataframe thead th {\n",
       "        text-align: right;\n",
       "    }\n",
       "</style>\n",
       "<table border=\"1\" class=\"dataframe\">\n",
       "  <thead>\n",
       "    <tr style=\"text-align: right;\">\n",
       "      <th></th>\n",
       "      <th>atomid</th>\n",
       "      <th>molid</th>\n",
       "      <th>atype</th>\n",
       "      <th>q</th>\n",
       "      <th>x</th>\n",
       "      <th>y</th>\n",
       "      <th>z</th>\n",
       "      <th>nx</th>\n",
       "      <th>ny</th>\n",
       "      <th>nz</th>\n",
       "    </tr>\n",
       "  </thead>\n",
       "  <tbody>\n",
       "    <tr>\n",
       "      <th>1955</th>\n",
       "      <td>1</td>\n",
       "      <td>1</td>\n",
       "      <td>1</td>\n",
       "      <td>0</td>\n",
       "      <td>-15.277157</td>\n",
       "      <td>-0.480414</td>\n",
       "      <td>5.710104</td>\n",
       "      <td>1</td>\n",
       "      <td>1</td>\n",
       "      <td>-1</td>\n",
       "    </tr>\n",
       "    <tr>\n",
       "      <th>1959</th>\n",
       "      <td>2</td>\n",
       "      <td>1</td>\n",
       "      <td>1</td>\n",
       "      <td>0</td>\n",
       "      <td>-15.539826</td>\n",
       "      <td>-0.910968</td>\n",
       "      <td>6.526660</td>\n",
       "      <td>1</td>\n",
       "      <td>1</td>\n",
       "      <td>-1</td>\n",
       "    </tr>\n",
       "    <tr>\n",
       "      <th>1940</th>\n",
       "      <td>3</td>\n",
       "      <td>1</td>\n",
       "      <td>1</td>\n",
       "      <td>0</td>\n",
       "      <td>-15.576905</td>\n",
       "      <td>-1.862841</td>\n",
       "      <td>6.821902</td>\n",
       "      <td>1</td>\n",
       "      <td>1</td>\n",
       "      <td>-1</td>\n",
       "    </tr>\n",
       "    <tr>\n",
       "      <th>1938</th>\n",
       "      <td>4</td>\n",
       "      <td>1</td>\n",
       "      <td>1</td>\n",
       "      <td>0</td>\n",
       "      <td>-16.087590</td>\n",
       "      <td>-2.568026</td>\n",
       "      <td>6.429268</td>\n",
       "      <td>1</td>\n",
       "      <td>1</td>\n",
       "      <td>-1</td>\n",
       "    </tr>\n",
       "    <tr>\n",
       "      <th>1951</th>\n",
       "      <td>5</td>\n",
       "      <td>1</td>\n",
       "      <td>1</td>\n",
       "      <td>0</td>\n",
       "      <td>-16.301786</td>\n",
       "      <td>-3.133061</td>\n",
       "      <td>5.635655</td>\n",
       "      <td>1</td>\n",
       "      <td>1</td>\n",
       "      <td>-1</td>\n",
       "    </tr>\n",
       "    <tr>\n",
       "      <th>...</th>\n",
       "      <td>...</td>\n",
       "      <td>...</td>\n",
       "      <td>...</td>\n",
       "      <td>...</td>\n",
       "      <td>...</td>\n",
       "      <td>...</td>\n",
       "      <td>...</td>\n",
       "      <td>...</td>\n",
       "      <td>...</td>\n",
       "      <td>...</td>\n",
       "    </tr>\n",
       "    <tr>\n",
       "      <th>18492</th>\n",
       "      <td>39996</td>\n",
       "      <td>250</td>\n",
       "      <td>250</td>\n",
       "      <td>0</td>\n",
       "      <td>0.067089</td>\n",
       "      <td>-2.900193</td>\n",
       "      <td>-1.826526</td>\n",
       "      <td>0</td>\n",
       "      <td>0</td>\n",
       "      <td>-1</td>\n",
       "    </tr>\n",
       "    <tr>\n",
       "      <th>18709</th>\n",
       "      <td>39997</td>\n",
       "      <td>250</td>\n",
       "      <td>250</td>\n",
       "      <td>0</td>\n",
       "      <td>0.767551</td>\n",
       "      <td>-2.011542</td>\n",
       "      <td>0.476336</td>\n",
       "      <td>0</td>\n",
       "      <td>0</td>\n",
       "      <td>-1</td>\n",
       "    </tr>\n",
       "    <tr>\n",
       "      <th>18255</th>\n",
       "      <td>39998</td>\n",
       "      <td>250</td>\n",
       "      <td>250</td>\n",
       "      <td>0</td>\n",
       "      <td>1.036505</td>\n",
       "      <td>-2.606974</td>\n",
       "      <td>-0.186183</td>\n",
       "      <td>0</td>\n",
       "      <td>0</td>\n",
       "      <td>-1</td>\n",
       "    </tr>\n",
       "    <tr>\n",
       "      <th>18275</th>\n",
       "      <td>39999</td>\n",
       "      <td>250</td>\n",
       "      <td>250</td>\n",
       "      <td>0</td>\n",
       "      <td>1.827007</td>\n",
       "      <td>-3.124489</td>\n",
       "      <td>-0.514809</td>\n",
       "      <td>0</td>\n",
       "      <td>0</td>\n",
       "      <td>-1</td>\n",
       "    </tr>\n",
       "    <tr>\n",
       "      <th>18117</th>\n",
       "      <td>40000</td>\n",
       "      <td>250</td>\n",
       "      <td>250</td>\n",
       "      <td>0</td>\n",
       "      <td>1.518184</td>\n",
       "      <td>-3.029788</td>\n",
       "      <td>-1.465027</td>\n",
       "      <td>0</td>\n",
       "      <td>0</td>\n",
       "      <td>-1</td>\n",
       "    </tr>\n",
       "  </tbody>\n",
       "</table>\n",
       "<p>40000 rows × 10 columns</p>\n",
       "</div>"
      ],
      "text/plain": [
       "       atomid  molid  atype  q          x         y         z  nx  ny  nz\n",
       "1955        1      1      1  0 -15.277157 -0.480414  5.710104   1   1  -1\n",
       "1959        2      1      1  0 -15.539826 -0.910968  6.526660   1   1  -1\n",
       "1940        3      1      1  0 -15.576905 -1.862841  6.821902   1   1  -1\n",
       "1938        4      1      1  0 -16.087590 -2.568026  6.429268   1   1  -1\n",
       "1951        5      1      1  0 -16.301786 -3.133061  5.635655   1   1  -1\n",
       "...       ...    ...    ... ..        ...       ...       ...  ..  ..  ..\n",
       "18492   39996    250    250  0   0.067089 -2.900193 -1.826526   0   0  -1\n",
       "18709   39997    250    250  0   0.767551 -2.011542  0.476336   0   0  -1\n",
       "18255   39998    250    250  0   1.036505 -2.606974 -0.186183   0   0  -1\n",
       "18275   39999    250    250  0   1.827007 -3.124489 -0.514809   0   0  -1\n",
       "18117   40000    250    250  0   1.518184 -3.029788 -1.465027   0   0  -1\n",
       "\n",
       "[40000 rows x 10 columns]"
      ]
     },
     "execution_count": 61,
     "metadata": {},
     "output_type": "execute_result"
    }
   ],
   "source": [
    "sort_atoms"
   ]
  },
  {
   "cell_type": "code",
   "execution_count": 63,
   "id": "415ad9e1-58ab-47c8-8aad-1622363c1f1b",
   "metadata": {
    "tags": []
   },
   "outputs": [],
   "source": [
    "sort_atoms[['atomid','molid','atype','q','x','y','z']].to_csv(base + \"/atoms\",index=None,header=None,sep=\" \")"
   ]
  },
  {
   "cell_type": "code",
   "execution_count": null,
   "id": "2700fdfe-72c5-4351-bd88-f87886eb4361",
   "metadata": {
    "tags": []
   },
   "outputs": [],
   "source": [
    "pd.set_option('display.max_rows', None)\n",
    "tmp = sort_atoms.query('atype==26').copy()"
   ]
  },
  {
   "cell_type": "code",
   "execution_count": null,
   "id": "5f087dee-379f-4dd3-b63f-409cfc485a87",
   "metadata": {
    "tags": []
   },
   "outputs": [],
   "source": [
    "for temp_i in range(383):\n",
    "    xxx = (tmp.x.values[temp_i] - tmp.x.values[temp_i+1])**2 + (tmp.y.values[temp_i] - tmp.y.values[temp_i+1])**2 + (tmp.z.values[temp_i] - tmp.z.values[temp_i+1])**2\n",
    "    if xxx > 4.0:\n",
    "        print(temp_i, xxx)"
   ]
  },
  {
   "cell_type": "markdown",
   "id": "c0a57682-e7a5-4a7e-accc-9b9ec19c19db",
   "metadata": {
    "tags": []
   },
   "source": [
    "two filaments"
   ]
  },
  {
   "cell_type": "code",
   "execution_count": null,
   "id": "6e423757-f762-47c6-8968-37607e40225c",
   "metadata": {
    "tags": []
   },
   "outputs": [],
   "source": [
    "#base2 = r\"/Volumes/DATA/3D_Print/DC/filaments_2024-04-14\"\n",
    "base2 = r\"./\"\n",
    "atom_coord = pd.read_csv(base2 + \"/3filament.dat\",\n",
    "                         header=None,skiprows=1029,nrows=192000,sep=\"\\s+\")"
   ]
  },
  {
   "cell_type": "code",
   "execution_count": null,
   "id": "76c86c35-d7f8-4f4a-bc3d-28e7c67f85a0",
   "metadata": {
    "tags": []
   },
   "outputs": [],
   "source": [
    "atom_coord.columns = ['atid','molid','atype','q','x','y','z','nx','ny','nz']"
   ]
  },
  {
   "cell_type": "code",
   "execution_count": null,
   "id": "935286c4-16e9-4c70-8a05-fe12d8259dc4",
   "metadata": {
    "tags": []
   },
   "outputs": [],
   "source": [
    "sort_atom_coord = atom_coord.sort_values(by = 'atid')"
   ]
  },
  {
   "cell_type": "code",
   "execution_count": null,
   "id": "e6fd9923-c080-4462-835d-54cb86d130df",
   "metadata": {
    "tags": []
   },
   "outputs": [],
   "source": [
    "sort_atom_coord"
   ]
  },
  {
   "cell_type": "code",
   "execution_count": null,
   "id": "1b4b6c40-6666-49ad-b5f0-11bcbf8488d8",
   "metadata": {
    "tags": []
   },
   "outputs": [],
   "source": [
    "newtype = [_//96000+1 for _ in range(len(sort_atom_coord))]"
   ]
  },
  {
   "cell_type": "code",
   "execution_count": null,
   "id": "3c495957-6718-47f8-a78a-fda46bdd0b64",
   "metadata": {
    "tags": []
   },
   "outputs": [],
   "source": [
    "sort_atom_coord['atype'] = newtype"
   ]
  },
  {
   "cell_type": "code",
   "execution_count": null,
   "id": "cc6d3ba2-671f-4e8d-9cff-f250943b0a90",
   "metadata": {
    "tags": []
   },
   "outputs": [],
   "source": [
    "sort_atom_coord.to_csv(base2 + \"/sort_atom.dat\",header=None,index=None,sep=\" \")"
   ]
  },
  {
   "cell_type": "markdown",
   "id": "2f001765-f5cb-48c4-bec0-2f4a9a5b4a19",
   "metadata": {},
   "source": [
    "DC accelerate"
   ]
  },
  {
   "cell_type": "code",
   "execution_count": null,
   "id": "4bb11b0a-6141-4262-aaf3-a37d31b4e690",
   "metadata": {
    "tags": []
   },
   "outputs": [],
   "source": [
    "base3 = r\"/Volumes/DATA/3D_Print/DC/print_2024-05-28/\"\n",
    "coords = pd.read_csv(base3 + \"data.glass\",header=None,skiprows=33,nrows=192000,sep=\"\\s+\")\n",
    "coords.columns = ['atid','molid','atype','q','x','y','z','nx','ny','nz']"
   ]
  },
  {
   "cell_type": "code",
   "execution_count": null,
   "id": "04f74c04-2bb2-486b-97bc-ac2d8b846dba",
   "metadata": {
    "tags": []
   },
   "outputs": [],
   "source": [
    "sort_coords = coords.sort_values(by = 'atid')\n",
    "sort_coords['atype'] = sort_coords['molid'].values"
   ]
  },
  {
   "cell_type": "code",
   "execution_count": null,
   "id": "f1320a53-3033-437b-9498-7dcd7a06e5b0",
   "metadata": {
    "tags": []
   },
   "outputs": [],
   "source": [
    "newid_list = []\n",
    "for _ in sort_coords['atid'].tolist():\n",
    "    if _%320 ==0:\n",
    "        newid_list.append(320)\n",
    "    else:\n",
    "        newid_list.append(_%320)"
   ]
  },
  {
   "cell_type": "code",
   "execution_count": null,
   "id": "768864f6-2267-4981-b37e-cc8fabefe445",
   "metadata": {
    "tags": []
   },
   "outputs": [],
   "source": [
    "sort_coords['molid'] = newid_list\n",
    "sort_coords['atype'] = (sort_coords['atid'].values-1)//320 + 1"
   ]
  },
  {
   "cell_type": "code",
   "execution_count": null,
   "id": "8c8c3878-c0a9-4cc8-9ae6-58c71fee077d",
   "metadata": {
    "tags": []
   },
   "outputs": [],
   "source": [
    "sort_coords"
   ]
  },
  {
   "cell_type": "code",
   "execution_count": null,
   "id": "9b470ba1-22c5-4551-ac63-da8caba776e0",
   "metadata": {
    "tags": []
   },
   "outputs": [],
   "source": [
    "sort_coords.to_csv(base3 + \"accelerate_merge.dat\",header=None,index=None,sep=\" \")"
   ]
  },
  {
   "cell_type": "code",
   "execution_count": null,
   "id": "d9a02570-d62b-47f5-ae17-af1eb70fb82d",
   "metadata": {},
   "outputs": [],
   "source": []
  }
 ],
 "metadata": {
  "kernelspec": {
   "display_name": "Python 3 (ipykernel)",
   "language": "python",
   "name": "python3"
  },
  "language_info": {
   "codemirror_mode": {
    "name": "ipython",
    "version": 3
   },
   "file_extension": ".py",
   "mimetype": "text/x-python",
   "name": "python",
   "nbconvert_exporter": "python",
   "pygments_lexer": "ipython3",
   "version": "3.11.5"
  }
 },
 "nbformat": 4,
 "nbformat_minor": 5
}
